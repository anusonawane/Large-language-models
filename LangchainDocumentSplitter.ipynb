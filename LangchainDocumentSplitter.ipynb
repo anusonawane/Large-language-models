{
 "cells": [
  {
   "cell_type": "code",
   "execution_count": 10,
   "id": "d89eb746-b64e-4acb-b5a3-3c0c3c6ffb22",
   "metadata": {},
   "outputs": [],
   "source": [
    "import warnings\n",
    "\n",
    "# Ignore all warnings\n",
    "warnings.filterwarnings('ignore')\n"
   ]
  },
  {
   "cell_type": "code",
   "execution_count": 1,
   "id": "2cc359c6-1e01-4206-896a-466cea6cf3c8",
   "metadata": {},
   "outputs": [],
   "source": [
    "text = \"\"\"\n",
    "Artificial intelligence (AI), in its broadest sense, is intelligence exhibited by machines, particularly computer systems.\n",
    "It is a field of research in computer science that develops and studies methods and software that enable machines to\n",
    "perceive their environment and use learning and intelligence to take actions that maximize their chances of achieving\n",
    "defined goals.[1] Such machines may be called AIs.\n",
    "\n",
    "Some high-profile applications of AI include advanced web search engines (e.g., Google Search);\n",
    "recommendation systems (used by YouTube, Amazon, and Netflix); interacting via human speech (e.g., Google Assistant,\n",
    "Siri, and Alexa); autonomous vehicles (e.g., Waymo); generative and creative tools (e.g., ChatGPT, and AI art); and\n",
    "superhuman play and analysis in strategy games (e.g., chess and Go). However, many AI applications are not perceived\n",
    "as AI: \"A lot of cutting edge AI has filtered into general applications, often without being called AI because once\n",
    "something becomes useful enough and common enough it's not labeled AI anymore.\"[2][3]\n",
    "\n",
    "The various subfields of AI research are centered around particular goals and the use of particular tools. The traditional\n",
    "goals of AI research include reasoning, knowledge representation, planning, learning, natural language processing,\n",
    "perception, and support for robotics.[a] General intelligence—the ability to complete any task performable by a human on\n",
    "an at least equal level—is among the field's long-term goals.[4] To reach these goals, AI researchers have adapted and\n",
    "integrated a wide range of techniques, including search and mathematical optimization, formal logic, artificial neural\n",
    "networks, and methods based on statistics, operations research, and economics.[b] AI also draws upon psychology, \n",
    "linguistics, philosophy, neuroscience, and other fields.[5]\n",
    "\"\"\""
   ]
  },
  {
   "cell_type": "markdown",
   "id": "2d5d3452-6525-457b-99ae-3d48559f387d",
   "metadata": {},
   "source": [
    "# Recursive Character Text Splitter"
   ]
  },
  {
   "cell_type": "code",
   "execution_count": 2,
   "id": "b9a9b4b6-c5ff-48d6-981d-605e8ff4aa08",
   "metadata": {},
   "outputs": [
    {
     "name": "stdout",
     "output_type": "stream",
     "text": [
      "Artificial intelligence (AI), in its broadest sense, is intelligence exhibited by machines, particularly computer systems.\n",
      "It is a field of research in computer science that develops and studies methods and software that enable machines to\n",
      "perceive their environment and use learning and intelligence to take actions that maximize their chances of achieving\n",
      "defined goals.[1] Such machines may be called AIs.\n",
      "\n",
      "\n",
      "Some high-profile applications of AI include advanced web search engines (e.g., Google Search);\n",
      "recommendation systems (used by YouTube, Amazon, and Netflix); interacting via human speech (e.g., Google Assistant,\n",
      "Siri, and Alexa); autonomous vehicles (e.g., Waymo); generative and creative tools (e.g., ChatGPT, and AI art); and\n",
      "superhuman play and analysis in strategy games (e.g., chess and Go). However, many AI applications are not perceived\n",
      "as AI: \"A lot of cutting edge AI has filtered into general applications, often without being called AI because once\n",
      "something becomes useful enough and common enough it's not labeled AI anymore.\"[2][3]\n",
      "\n",
      "\n",
      "The various subfields of AI research are centered around particular goals and the use of particular tools. The traditional\n",
      "goals of AI research include reasoning, knowledge representation, planning, learning, natural language processing,\n",
      "perception, and support for robotics.[a] General intelligence—the ability to complete any task performable by a human on\n",
      "an at least equal level—is among the field's long-term goals.[4] To reach these goals, AI researchers have adapted and\n",
      "integrated a wide range of techniques, including search and mathematical optimization, formal logic, artificial neural\n",
      "networks, and methods based on statistics, operations research, and economics.[b] AI also draws upon psychology, \n",
      "linguistics, philosophy, neuroscience, and other fields.[5]\n",
      "\n",
      "\n"
     ]
    }
   ],
   "source": [
    "from langchain.text_splitter import RecursiveCharacterTextSplitter\n",
    "\n",
    "splitter = RecursiveCharacterTextSplitter(chunk_size=1000, chunk_overlap=50)\n",
    "chunks = splitter.split_text(text)\n",
    "for chunk in chunks:\n",
    "    print(chunk)\n",
    "    print(\"\\n\")"
   ]
  },
  {
   "cell_type": "markdown",
   "id": "abc64023-a96e-4e5f-bf38-ca1baab8bd17",
   "metadata": {},
   "source": [
    "# Token Splitter"
   ]
  },
  {
   "cell_type": "code",
   "execution_count": 6,
   "id": "3d0d60f2-1fc3-4886-9d49-caa0ecfac13e",
   "metadata": {},
   "outputs": [
    {
     "name": "stdout",
     "output_type": "stream",
     "text": [
      "\n",
      "Artificial intelligence (AI), in its broadest sense, is intelligence exhibited by machines, particularly computer systems.\n",
      "It is a field of research in computer science that develops and studies methods and software that enable machines to\n",
      "perceive their environment and use learning and intelligence to take actions that maximize their chances of achieving\n",
      "defined goals.[1] Such machines may be called AIs.\n",
      "\n",
      "Some high-profile applications of AI include advanced web search engines (e.g., Google Search);\n",
      "recommendation systems (used by YouTube, Amazon, and Netflix); interacting via human speech (e.g., Google Assistant,\n",
      "Siri, and Alexa); autonomous vehicles (e.g., Waymo); generative and creative tools (e.g., ChatGPT, and AI art); and\n",
      "superhuman play and analysis in strategy games (e.g., chess and Go). However, many AI applications are not perceived\n",
      "as AI: \"A lot of cutting edge AI has filtered into general applications, often without being called AI because once\n",
      "something becomes useful enough and common enough it's not labeled AI anymore.\"[2][3]\n",
      "\n",
      "The various subfields of AI research are centered around particular goals and the use of particular tools. The traditional\n",
      "goals of AI research include reasoning, knowledge representation, planning, learning, natural language processing,\n",
      "perception, and support for robotics.[a] General intelligence—the ability to complete any task performable by a human on\n",
      "an at least equal level—is among the field's long-term goals.[4] To reach these goals, AI researchers have adapted and\n",
      "integrated a wide range of techniques, including search and mathematical optimization, formal logic, artificial neural\n",
      "networks, and methods based on statistics, operations research, and economics.[b] AI also draws upon psychology, \n",
      "linguistics, philosophy, neuroscience, and other fields.[5]\n",
      "\n"
     ]
    }
   ],
   "source": [
    "from langchain.text_splitter import TokenTextSplitter\n",
    "\n",
    "splitter = TokenTextSplitter()\n",
    "chunks = splitter.split_text(text)\n",
    "for chunk in chunks:\n",
    "    print(chunk)"
   ]
  },
  {
   "cell_type": "markdown",
   "id": "d5c72734-7f2f-41a1-afa5-ea5168723999",
   "metadata": {},
   "source": [
    "# Sentence Splitter"
   ]
  },
  {
   "cell_type": "code",
   "execution_count": 11,
   "id": "b7a3ccdd-5b9e-4f38-ade1-298e739fa160",
   "metadata": {},
   "outputs": [
    {
     "data": {
      "application/vnd.jupyter.widget-view+json": {
       "model_id": "79c24643bbe74549ac0f44cb2b57d87b",
       "version_major": 2,
       "version_minor": 0
      },
      "text/plain": [
       "model.safetensors:  91%|######### | 398M/438M [00:00<?, ?B/s]"
      ]
     },
     "metadata": {},
     "output_type": "display_data"
    },
    {
     "data": {
      "application/vnd.jupyter.widget-view+json": {
       "model_id": "5ca8d383b31b41de8a1216bf260b7e24",
       "version_major": 2,
       "version_minor": 0
      },
      "text/plain": [
       "tokenizer_config.json:   0%|          | 0.00/363 [00:00<?, ?B/s]"
      ]
     },
     "metadata": {},
     "output_type": "display_data"
    },
    {
     "data": {
      "application/vnd.jupyter.widget-view+json": {
       "model_id": "d3af2080c3f443af98013a230cd0f7b4",
       "version_major": 2,
       "version_minor": 0
      },
      "text/plain": [
       "vocab.txt:   0%|          | 0.00/232k [00:00<?, ?B/s]"
      ]
     },
     "metadata": {},
     "output_type": "display_data"
    },
    {
     "data": {
      "application/vnd.jupyter.widget-view+json": {
       "model_id": "8b0af895fa2a4843bc7012748b6f8f3f",
       "version_major": 2,
       "version_minor": 0
      },
      "text/plain": [
       "tokenizer.json:   0%|          | 0.00/466k [00:00<?, ?B/s]"
      ]
     },
     "metadata": {},
     "output_type": "display_data"
    },
    {
     "data": {
      "application/vnd.jupyter.widget-view+json": {
       "model_id": "4e5316fdf5bb4b9faa896ca1505dc470",
       "version_major": 2,
       "version_minor": 0
      },
      "text/plain": [
       "special_tokens_map.json:   0%|          | 0.00/239 [00:00<?, ?B/s]"
      ]
     },
     "metadata": {},
     "output_type": "display_data"
    },
    {
     "data": {
      "application/vnd.jupyter.widget-view+json": {
       "model_id": "125e7cd2532941868b8b2ef3cc2dc808",
       "version_major": 2,
       "version_minor": 0
      },
      "text/plain": [
       "1_Pooling/config.json:   0%|          | 0.00/190 [00:00<?, ?B/s]"
      ]
     },
     "metadata": {},
     "output_type": "display_data"
    },
    {
     "name": "stdout",
     "output_type": "stream",
     "text": [
      "artificial intelligence ( ai ), in its broadest sense, is intelligence exhibited by machines, particularly computer systems. it is a field of research in computer science that develops and studies methods and software that enable machines to perceive their environment and use learning and intelligence to take actions that maximize their chances of achieving defined goals. [ 1 ] such machines may be called ais. some high - profile applications of ai include advanced web search engines ( e. g., google search ) ; recommendation systems ( used by youtube, amazon, and netflix ) ; interacting via human speech ( e. g., google assistant, siri, and alexa ) ; autonomous vehicles ( e. g., waymo ) ; generative and creative tools ( e. g., chatgpt, and ai art ) ; and superhuman play and analysis in strategy games ( e. g., chess and go ). however, many ai applications are not perceived as ai : \" a lot of cutting edge ai has filtered into general applications, often without being called ai because once something becomes useful enough and common enough it's not labeled ai anymore. \" [ 2 ] [ 3 ] the various subfields of ai research are centered around particular goals and the use of particular tools. the traditional goals of ai research include reasoning, knowledge representation, planning, learning, natural language processing, perception, and support for robotics. [ a ] general intelligence — the ability to complete any task performable by a human on an at least equal level — is among the field's long - term goals. [ 4 ] to reach these goals, ai researchers have adapted and integrated a wide range of techniques, including search and mathematical optimization, formal logic, artificial neural networks, and methods based on statistics, operations research, and economics. [ b ] ai also draws upon psychology, linguistics, philosophy, neuroscience, and other fields. [ 5 ]\n",
      "\n",
      "\n"
     ]
    }
   ],
   "source": [
    "from langchain.text_splitter import SentenceTransformersTokenTextSplitter\n",
    "\n",
    "splitter = SentenceTransformersTokenTextSplitter()\n",
    "chunks = splitter.split_text(text)\n",
    "for chunk in chunks:\n",
    "    print(chunk)\n",
    "    print(\"\\n\")"
   ]
  },
  {
   "cell_type": "code",
   "execution_count": null,
   "id": "ac4fa5a5-3c60-457e-9141-1ab7b5bd1756",
   "metadata": {},
   "outputs": [],
   "source": []
  }
 ],
 "metadata": {
  "kernelspec": {
   "display_name": "Python 3 (ipykernel)",
   "language": "python",
   "name": "python3"
  },
  "language_info": {
   "codemirror_mode": {
    "name": "ipython",
    "version": 3
   },
   "file_extension": ".py",
   "mimetype": "text/x-python",
   "name": "python",
   "nbconvert_exporter": "python",
   "pygments_lexer": "ipython3",
   "version": "3.11.9"
  }
 },
 "nbformat": 4,
 "nbformat_minor": 5
}
